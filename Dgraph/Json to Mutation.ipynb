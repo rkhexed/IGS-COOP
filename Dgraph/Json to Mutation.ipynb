{
 "cells": [
  {
   "cell_type": "code",
   "execution_count": 1,
   "id": "68fd0643-1092-4299-a695-30ccb7559c5a",
   "metadata": {},
   "outputs": [
    {
     "ename": "AttributeError",
     "evalue": "'str' object has no attribute 'items'",
     "output_type": "error",
     "traceback": [
      "\u001b[0;31m---------------------------------------------------------------------------\u001b[0m",
      "\u001b[0;31mAttributeError\u001b[0m                            Traceback (most recent call last)",
      "Cell \u001b[0;32mIn[1], line 40\u001b[0m\n\u001b[1;32m     37\u001b[0m     json_data \u001b[38;5;241m=\u001b[39m json\u001b[38;5;241m.\u001b[39mload(file)\n\u001b[1;32m     39\u001b[0m \u001b[38;5;66;03m# Generate the mutation string\u001b[39;00m\n\u001b[0;32m---> 40\u001b[0m mutation_query \u001b[38;5;241m=\u001b[39m convert_json_to_mutation(json_data)\n\u001b[1;32m     41\u001b[0m \u001b[38;5;28mprint\u001b[39m(mutation_query)\n",
      "Cell \u001b[0;32mIn[1], line 31\u001b[0m, in \u001b[0;36mconvert_json_to_mutation\u001b[0;34m(json_data)\u001b[0m\n\u001b[1;32m     29\u001b[0m \u001b[38;5;28;01mdef\u001b[39;00m \u001b[38;5;21mconvert_json_to_mutation\u001b[39m(json_data):\n\u001b[1;32m     30\u001b[0m     mutation \u001b[38;5;241m=\u001b[39m \u001b[38;5;124mf\u001b[39m\u001b[38;5;124m\"\u001b[39m\u001b[38;5;124mmutation \u001b[39m\u001b[38;5;130;01m{{\u001b[39;00m\u001b[38;5;130;01m\\n\u001b[39;00m\u001b[38;5;124m\"\u001b[39m\n\u001b[0;32m---> 31\u001b[0m     mutation \u001b[38;5;241m+\u001b[39m\u001b[38;5;241m=\u001b[39m generate_mutation(json_data)\n\u001b[1;32m     32\u001b[0m     mutation \u001b[38;5;241m+\u001b[39m\u001b[38;5;241m=\u001b[39m \u001b[38;5;124mf\u001b[39m\u001b[38;5;124m\"\u001b[39m\u001b[38;5;130;01m\\n\u001b[39;00m\u001b[38;5;130;01m}}\u001b[39;00m\u001b[38;5;124m\"\u001b[39m\n\u001b[1;32m     33\u001b[0m     \u001b[38;5;28;01mreturn\u001b[39;00m mutation\n",
      "Cell \u001b[0;32mIn[1], line 18\u001b[0m, in \u001b[0;36mgenerate_mutation\u001b[0;34m(data, parent_key)\u001b[0m\n\u001b[1;32m     16\u001b[0m \u001b[38;5;28;01mfor\u001b[39;00m item \u001b[38;5;129;01min\u001b[39;00m value:\n\u001b[1;32m     17\u001b[0m     mutation_str \u001b[38;5;241m+\u001b[39m\u001b[38;5;241m=\u001b[39m \u001b[38;5;124m'\u001b[39m\u001b[38;5;124m{\u001b[39m\u001b[38;5;130;01m\\n\u001b[39;00m\u001b[38;5;124m'\u001b[39m\n\u001b[0;32m---> 18\u001b[0m     mutation_str \u001b[38;5;241m+\u001b[39m\u001b[38;5;241m=\u001b[39m generate_mutation(item, key)\n\u001b[1;32m     19\u001b[0m     mutation_str \u001b[38;5;241m+\u001b[39m\u001b[38;5;241m=\u001b[39m \u001b[38;5;124m'\u001b[39m\u001b[38;5;124m}, \u001b[39m\u001b[38;5;124m'\u001b[39m\n\u001b[1;32m     20\u001b[0m mutation_str \u001b[38;5;241m=\u001b[39m mutation_str\u001b[38;5;241m.\u001b[39mrstrip(\u001b[38;5;124m'\u001b[39m\u001b[38;5;124m, \u001b[39m\u001b[38;5;124m'\u001b[39m)  \u001b[38;5;66;03m# Remove trailing comma\u001b[39;00m\n",
      "Cell \u001b[0;32mIn[1], line 18\u001b[0m, in \u001b[0;36mgenerate_mutation\u001b[0;34m(data, parent_key)\u001b[0m\n\u001b[1;32m     16\u001b[0m \u001b[38;5;28;01mfor\u001b[39;00m item \u001b[38;5;129;01min\u001b[39;00m value:\n\u001b[1;32m     17\u001b[0m     mutation_str \u001b[38;5;241m+\u001b[39m\u001b[38;5;241m=\u001b[39m \u001b[38;5;124m'\u001b[39m\u001b[38;5;124m{\u001b[39m\u001b[38;5;130;01m\\n\u001b[39;00m\u001b[38;5;124m'\u001b[39m\n\u001b[0;32m---> 18\u001b[0m     mutation_str \u001b[38;5;241m+\u001b[39m\u001b[38;5;241m=\u001b[39m generate_mutation(item, key)\n\u001b[1;32m     19\u001b[0m     mutation_str \u001b[38;5;241m+\u001b[39m\u001b[38;5;241m=\u001b[39m \u001b[38;5;124m'\u001b[39m\u001b[38;5;124m}, \u001b[39m\u001b[38;5;124m'\u001b[39m\n\u001b[1;32m     20\u001b[0m mutation_str \u001b[38;5;241m=\u001b[39m mutation_str\u001b[38;5;241m.\u001b[39mrstrip(\u001b[38;5;124m'\u001b[39m\u001b[38;5;124m, \u001b[39m\u001b[38;5;124m'\u001b[39m)  \u001b[38;5;66;03m# Remove trailing comma\u001b[39;00m\n",
      "    \u001b[0;31m[... skipping similar frames: generate_mutation at line 18 (2 times)]\u001b[0m\n",
      "Cell \u001b[0;32mIn[1], line 18\u001b[0m, in \u001b[0;36mgenerate_mutation\u001b[0;34m(data, parent_key)\u001b[0m\n\u001b[1;32m     16\u001b[0m \u001b[38;5;28;01mfor\u001b[39;00m item \u001b[38;5;129;01min\u001b[39;00m value:\n\u001b[1;32m     17\u001b[0m     mutation_str \u001b[38;5;241m+\u001b[39m\u001b[38;5;241m=\u001b[39m \u001b[38;5;124m'\u001b[39m\u001b[38;5;124m{\u001b[39m\u001b[38;5;130;01m\\n\u001b[39;00m\u001b[38;5;124m'\u001b[39m\n\u001b[0;32m---> 18\u001b[0m     mutation_str \u001b[38;5;241m+\u001b[39m\u001b[38;5;241m=\u001b[39m generate_mutation(item, key)\n\u001b[1;32m     19\u001b[0m     mutation_str \u001b[38;5;241m+\u001b[39m\u001b[38;5;241m=\u001b[39m \u001b[38;5;124m'\u001b[39m\u001b[38;5;124m}, \u001b[39m\u001b[38;5;124m'\u001b[39m\n\u001b[1;32m     20\u001b[0m mutation_str \u001b[38;5;241m=\u001b[39m mutation_str\u001b[38;5;241m.\u001b[39mrstrip(\u001b[38;5;124m'\u001b[39m\u001b[38;5;124m, \u001b[39m\u001b[38;5;124m'\u001b[39m)  \u001b[38;5;66;03m# Remove trailing comma\u001b[39;00m\n",
      "Cell \u001b[0;32mIn[1], line 11\u001b[0m, in \u001b[0;36mgenerate_mutation\u001b[0;34m(data, parent_key)\u001b[0m\n\u001b[1;32m      8\u001b[0m \u001b[38;5;28;01mif\u001b[39;00m \u001b[38;5;28misinstance\u001b[39m(value, \u001b[38;5;28mdict\u001b[39m):\n\u001b[1;32m      9\u001b[0m     \u001b[38;5;66;03m# Recursively handle nested dictionaries\u001b[39;00m\n\u001b[1;32m     10\u001b[0m     mutation_str \u001b[38;5;241m+\u001b[39m\u001b[38;5;241m=\u001b[39m \u001b[38;5;124mf\u001b[39m\u001b[38;5;124m'\u001b[39m\u001b[38;5;130;01m{{\u001b[39;00m\u001b[38;5;130;01m\\n\u001b[39;00m\u001b[38;5;132;01m{\u001b[39;00mkey\u001b[38;5;132;01m}\u001b[39;00m\u001b[38;5;124m \u001b[39m\u001b[38;5;130;01m{{\u001b[39;00m\u001b[38;5;130;01m\\n\u001b[39;00m\u001b[38;5;124m'\u001b[39m\n\u001b[0;32m---> 11\u001b[0m     mutation_str \u001b[38;5;241m+\u001b[39m\u001b[38;5;241m=\u001b[39m generate_mutation(value, key)\n\u001b[1;32m     12\u001b[0m     mutation_str \u001b[38;5;241m+\u001b[39m\u001b[38;5;241m=\u001b[39m \u001b[38;5;124mf\u001b[39m\u001b[38;5;124m'\u001b[39m\u001b[38;5;130;01m}}\u001b[39;00m\u001b[38;5;130;01m\\n\u001b[39;00m\u001b[38;5;130;01m}}\u001b[39;00m\u001b[38;5;124m'\u001b[39m\n\u001b[1;32m     13\u001b[0m \u001b[38;5;28;01melif\u001b[39;00m \u001b[38;5;28misinstance\u001b[39m(value, \u001b[38;5;28mlist\u001b[39m):\n\u001b[1;32m     14\u001b[0m     \u001b[38;5;66;03m# Handle lists of dictionaries or simple values\u001b[39;00m\n",
      "Cell \u001b[0;32mIn[1], line 18\u001b[0m, in \u001b[0;36mgenerate_mutation\u001b[0;34m(data, parent_key)\u001b[0m\n\u001b[1;32m     16\u001b[0m \u001b[38;5;28;01mfor\u001b[39;00m item \u001b[38;5;129;01min\u001b[39;00m value:\n\u001b[1;32m     17\u001b[0m     mutation_str \u001b[38;5;241m+\u001b[39m\u001b[38;5;241m=\u001b[39m \u001b[38;5;124m'\u001b[39m\u001b[38;5;124m{\u001b[39m\u001b[38;5;130;01m\\n\u001b[39;00m\u001b[38;5;124m'\u001b[39m\n\u001b[0;32m---> 18\u001b[0m     mutation_str \u001b[38;5;241m+\u001b[39m\u001b[38;5;241m=\u001b[39m generate_mutation(item, key)\n\u001b[1;32m     19\u001b[0m     mutation_str \u001b[38;5;241m+\u001b[39m\u001b[38;5;241m=\u001b[39m \u001b[38;5;124m'\u001b[39m\u001b[38;5;124m}, \u001b[39m\u001b[38;5;124m'\u001b[39m\n\u001b[1;32m     20\u001b[0m mutation_str \u001b[38;5;241m=\u001b[39m mutation_str\u001b[38;5;241m.\u001b[39mrstrip(\u001b[38;5;124m'\u001b[39m\u001b[38;5;124m, \u001b[39m\u001b[38;5;124m'\u001b[39m)  \u001b[38;5;66;03m# Remove trailing comma\u001b[39;00m\n",
      "Cell \u001b[0;32mIn[1], line 18\u001b[0m, in \u001b[0;36mgenerate_mutation\u001b[0;34m(data, parent_key)\u001b[0m\n\u001b[1;32m     16\u001b[0m \u001b[38;5;28;01mfor\u001b[39;00m item \u001b[38;5;129;01min\u001b[39;00m value:\n\u001b[1;32m     17\u001b[0m     mutation_str \u001b[38;5;241m+\u001b[39m\u001b[38;5;241m=\u001b[39m \u001b[38;5;124m'\u001b[39m\u001b[38;5;124m{\u001b[39m\u001b[38;5;130;01m\\n\u001b[39;00m\u001b[38;5;124m'\u001b[39m\n\u001b[0;32m---> 18\u001b[0m     mutation_str \u001b[38;5;241m+\u001b[39m\u001b[38;5;241m=\u001b[39m generate_mutation(item, key)\n\u001b[1;32m     19\u001b[0m     mutation_str \u001b[38;5;241m+\u001b[39m\u001b[38;5;241m=\u001b[39m \u001b[38;5;124m'\u001b[39m\u001b[38;5;124m}, \u001b[39m\u001b[38;5;124m'\u001b[39m\n\u001b[1;32m     20\u001b[0m mutation_str \u001b[38;5;241m=\u001b[39m mutation_str\u001b[38;5;241m.\u001b[39mrstrip(\u001b[38;5;124m'\u001b[39m\u001b[38;5;124m, \u001b[39m\u001b[38;5;124m'\u001b[39m)  \u001b[38;5;66;03m# Remove trailing comma\u001b[39;00m\n",
      "Cell \u001b[0;32mIn[1], line 7\u001b[0m, in \u001b[0;36mgenerate_mutation\u001b[0;34m(data, parent_key)\u001b[0m\n\u001b[1;32m      4\u001b[0m mutation_str \u001b[38;5;241m=\u001b[39m \u001b[38;5;124m\"\u001b[39m\u001b[38;5;124m\"\u001b[39m\n\u001b[1;32m      6\u001b[0m \u001b[38;5;66;03m# Iterate over keys in the JSON data\u001b[39;00m\n\u001b[0;32m----> 7\u001b[0m \u001b[38;5;28;01mfor\u001b[39;00m key, value \u001b[38;5;129;01min\u001b[39;00m data\u001b[38;5;241m.\u001b[39mitems():\n\u001b[1;32m      8\u001b[0m     \u001b[38;5;28;01mif\u001b[39;00m \u001b[38;5;28misinstance\u001b[39m(value, \u001b[38;5;28mdict\u001b[39m):\n\u001b[1;32m      9\u001b[0m         \u001b[38;5;66;03m# Recursively handle nested dictionaries\u001b[39;00m\n\u001b[1;32m     10\u001b[0m         mutation_str \u001b[38;5;241m+\u001b[39m\u001b[38;5;241m=\u001b[39m \u001b[38;5;124mf\u001b[39m\u001b[38;5;124m'\u001b[39m\u001b[38;5;130;01m{{\u001b[39;00m\u001b[38;5;130;01m\\n\u001b[39;00m\u001b[38;5;132;01m{\u001b[39;00mkey\u001b[38;5;132;01m}\u001b[39;00m\u001b[38;5;124m \u001b[39m\u001b[38;5;130;01m{{\u001b[39;00m\u001b[38;5;130;01m\\n\u001b[39;00m\u001b[38;5;124m'\u001b[39m\n",
      "\u001b[0;31mAttributeError\u001b[0m: 'str' object has no attribute 'items'"
     ]
    }
   ],
   "source": [
    "import json\n",
    "\n",
    "def generate_mutation(data, parent_key=None):\n",
    "    mutation_str = \"\"\n",
    "    \n",
    "    # Iterate over keys in the JSON data\n",
    "    for key, value in data.items():\n",
    "        if isinstance(value, dict):\n",
    "            # Recursively handle nested dictionaries\n",
    "            mutation_str += f'{{\\n{key} {{\\n'\n",
    "            mutation_str += generate_mutation(value, key)\n",
    "            mutation_str += f'}}\\n}}'\n",
    "        elif isinstance(value, list):\n",
    "            # Handle lists of dictionaries or simple values\n",
    "            mutation_str += f'{{\\n{key} ['\n",
    "            for item in value:\n",
    "                mutation_str += '{\\n'\n",
    "                mutation_str += generate_mutation(item, key)\n",
    "                mutation_str += '}, '\n",
    "            mutation_str = mutation_str.rstrip(', ')  # Remove trailing comma\n",
    "            mutation_str += f']\\n}}'\n",
    "        else:\n",
    "            # Add base fields to mutation (for non-nested, non-list values)\n",
    "            mutation_str += f'  {key}: \"{value}\",\\n'\n",
    "    \n",
    "    # Remove the trailing comma\n",
    "    return mutation_str.strip().rstrip(',')\n",
    "\n",
    "def convert_json_to_mutation(json_data):\n",
    "    mutation = f\"mutation {{\\n\"\n",
    "    mutation += generate_mutation(json_data)\n",
    "    mutation += f\"\\n}}\"\n",
    "    return mutation\n",
    "\n",
    "# Load the JSON data (replace with your file path or API response)\n",
    "with open('mutation.json') as file:\n",
    "    json_data = json.load(file)\n",
    "\n",
    "# Generate the mutation string\n",
    "mutation_query = convert_json_to_mutation(json_data)\n",
    "print(mutation_query)"
   ]
  },
  {
   "cell_type": "code",
   "execution_count": null,
   "id": "99f8a91c-8cc3-499c-9068-09acc1164dee",
   "metadata": {},
   "outputs": [],
   "source": []
  }
 ],
 "metadata": {
  "kernelspec": {
   "display_name": "Python 3 (ipykernel)",
   "language": "python",
   "name": "python3"
  },
  "language_info": {
   "codemirror_mode": {
    "name": "ipython",
    "version": 3
   },
   "file_extension": ".py",
   "mimetype": "text/x-python",
   "name": "python",
   "nbconvert_exporter": "python",
   "pygments_lexer": "ipython3",
   "version": "3.12.2"
  }
 },
 "nbformat": 4,
 "nbformat_minor": 5
}
